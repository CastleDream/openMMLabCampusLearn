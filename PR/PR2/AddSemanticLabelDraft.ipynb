{
 "cells": [
  {
   "cell_type": "markdown",
   "id": "593d3c55-7834-4951-b17f-a31d1642b5af",
   "metadata": {},
   "source": [
    "# imshow部分修改"
   ]
  },
  {
   "cell_type": "markdown",
   "id": "58d044b1-c071-4859-9563-90b44233adc3",
   "metadata": {},
   "source": [
    "直接按照\n",
    "+ <https://github.com/open-mmlab/mmsegmentation/blob/dev-1.x/docs/zh_cn/user_guides/visualization.md>\n",
    "+ <https://github.com/MeowZheng/mmsegmentation/blob/dev-1.x/mmseg/visualization/local_visualizer.py>\n",
    "\n",
    "给的调用示例，写个demo出来, \n",
    "+ local_visualizer里给的demo已经过期了。。。要改\n",
    "+ 网页文档里的代码没有过期。。。\n",
    "\n",
    "\n",
    "关于mmcv的imread，源码：<https://github.com/open-mmlab/mmcv/blob/987d34b0cf8d6cd8725258332fcfc8c54529b1ab/mmcv/image/io.py#L33>"
   ]
  },
  {
   "cell_type": "markdown",
   "id": "62ee93b4-edda-4f79-bee7-ee7374d1fb9f",
   "metadata": {},
   "source": [
    "## 测试代码"
   ]
  },
  {
   "cell_type": "code",
   "execution_count": 1,
   "id": "46e422d5-921f-45bf-9140-1feb6fa7dbc8",
   "metadata": {},
   "outputs": [
    {
     "name": "stdout",
     "output_type": "stream",
     "text": [
      "/Users/huangshan/Documents/DailyStudy/mmsegmentation/TestPR\n"
     ]
    }
   ],
   "source": [
    "import os\n",
    "print(os.getcwd())\n",
    "\n",
    "test_image_dir = \"./pseudo_bdd100k_dataset/images/10k/train\"  \n",
    "test_mask_dir = \"./pseudo_bdd100k_dataset/labels/sem_seg/masks/train\"\n",
    "\n",
    "image_name = \"0004a4c0-d4dff0ad\"\n",
    "\n",
    "image_path = os.path.join(test_image_dir,image_name+\".jpg\")\n",
    "mask_path = os.path.join(test_mask_dir,image_name+\".png\")"
   ]
  },
  {
   "cell_type": "markdown",
   "id": "55016bad-a333-4e2b-a1ea-310380f27b3f",
   "metadata": {},
   "source": [
    "```python\n",
    "import mmcv\n",
    "import matplotlib.pyplot as plt\n",
    "\n",
    "image = mmcv.imread(image_path,channel_order='rgb')\n",
    "# 不加这个参数默认是bgr\n",
    "print(type(image),image.shape)\n",
    "\n",
    "# plt.imshow(image[:,:,::-1])\n",
    "plt.imshow(image)\n",
    "```"
   ]
  },
  {
   "cell_type": "markdown",
   "id": "6b3b67ec-e97e-4fae-8a70-e0e780710a71",
   "metadata": {},
   "source": [
    "```python\n",
    "mask = mmcv.imread(mask_path,'unchanged')\n",
    "\n",
    "import matplotlib\n",
    "from matplotlib.colors import ListedColormap\n",
    "import numpy as np\n",
    "rgb=np.array([[128, 64, 128],[244, 35, 232],[70, 70, 70],[102, 102, 156],[190, 153, 153],[153, 153, 153],[250, 170, 30],[220, 220, 0],\n",
    "    [107, 142, 35],[152, 251, 152],[70, 130, 180],[220, 20, 60],[255, 0, 0],[0, 0, 142],[0, 0, 70],[0, 60, 100],[0, 80, 100],[0, 0, 230],[119, 11, 32]])/255.0\n",
    "rgb_c=np.zeros((256,3))\n",
    "# 0-255,cmap是256种颜色\n",
    "for i in range(19):\n",
    "    rgb_c[i]=rgb[i]\n",
    "print(rgb_c[:2])\n",
    "bdd_cmap = ListedColormap(rgb_c)\n",
    "\n",
    "print(type(mask),mask.shape)\n",
    "plt.imshow(mask,cmap=bdd_cmap,vmax=255)\n",
    "```"
   ]
  },
  {
   "cell_type": "markdown",
   "id": "38022528-e709-48f3-bdab-46cfe298c088",
   "metadata": {},
   "source": [
    "## 规整代码"
   ]
  },
  {
   "cell_type": "code",
   "execution_count": null,
   "id": "1fdbc51c-8a1f-4456-9038-34ba1578970a",
   "metadata": {},
   "outputs": [],
   "source": [
    "import numpy as np\n",
    "import torch\n",
    "from mmengine.structures import PixelData\n",
    "\n",
    "import mmcv\n",
    "\n",
    "from importlib import reload\n",
    "from mmseg.structures import SegDataSample\n",
    "from  mmseg.visualization.local_visualizer import SegLocalVisualizer\n",
    "\n",
    "# from mmseg.utils.class_names import bdd100k_classes,bdd100k_palette\n",
    "# from mmseg.utils.class_names import cityscapes_classes,cityscapes_palette\n",
    "\n",
    "save_dir = './work_dirs'\n",
    "\n",
    "seg_local_visualizer = SegLocalVisualizer(vis_backends=[dict(type='LocalVisBackend')],\n",
    "                                          save_dir=save_dir,\n",
    "                                          dataset_name = \"cityscapes\")\n",
    "image = mmcv.imread(image_path,channel_order='rgb')\n",
    "# SegLocalVisualizer中要求图像是RGB的\n",
    "\n",
    "sem_seg = mmcv.imread(mask_path,'unchanged')\n",
    "gt_sem_seg_data = dict(data=sem_seg)\n",
    "gt_sem_seg = PixelData(**gt_sem_seg_data)\n",
    "\n",
    "gt_seg_data_sample = SegDataSample()\n",
    "gt_seg_data_sample.gt_sem_seg = gt_sem_seg\n",
    "\n",
    "\n",
    "# seg_local_visualizer.dataset_meta = dict(classes=bdd100k_classes(),palette=bdd100k_palette())\n",
    "# seg_local_visualizer.dataset_meta = dict(classes=cityscapes_classes(),palette=cityscapes_palette())\n",
    "seg_local_visualizer.add_datasample('visualizer_example',image, gt_seg_data_sample)"
   ]
  },
  {
   "cell_type": "code",
   "execution_count": null,
   "id": "c045767c-896b-4304-a573-31ab456593d3",
   "metadata": {},
   "outputs": [],
   "source": [
    "%matplotlib --list"
   ]
  },
  {
   "cell_type": "markdown",
   "id": "d2398904-e7ad-427b-8e07-f1ca9f3f3cd1",
   "metadata": {},
   "source": [
    "`inline`模式显示不出来，对于mac来说，只有`osx`这种窗口式的才可以\n",
    "+ <https://matplotlib.org/stable/users/explain/backends.html#what-is-a-backend>\n",
    "\n",
    "要么就写个.py文件，反正必须是窗口才行"
   ]
  },
  {
   "cell_type": "code",
   "execution_count": null,
   "id": "b2ab10a9-92a8-43f6-a93b-a100407eabfc",
   "metadata": {},
   "outputs": [],
   "source": [
    "%matplotlib osx\n",
    "seg_local_visualizer.add_datasample('visualizer_example', image,gt_seg_data_sample, show=True)"
   ]
  },
  {
   "cell_type": "markdown",
   "id": "520e9a97-5b30-4f53-8041-5b18ed3ceefc",
   "metadata": {},
   "source": [
    "# imwrite部分修改"
   ]
  },
  {
   "cell_type": "code",
   "execution_count": null,
   "id": "8c80f5b0-0dea-4202-97f5-ee81d2a9e145",
   "metadata": {},
   "outputs": [],
   "source": []
  },
  {
   "cell_type": "code",
   "execution_count": null,
   "id": "5275efdb-b394-4a8b-ae32-bb2665c1a651",
   "metadata": {},
   "outputs": [],
   "source": []
  },
  {
   "cell_type": "markdown",
   "id": "850c4eaf-a42f-4708-9ac9-0b0bbd153f9e",
   "metadata": {},
   "source": [
    "# SegLocalVisualizer(本地简写)"
   ]
  },
  {
   "cell_type": "markdown",
   "id": "88e0f4a1-8cff-44fa-86d3-cc3c0f5d835f",
   "metadata": {},
   "source": [
    "## 相关草稿"
   ]
  },
  {
   "cell_type": "markdown",
   "id": "84da5833-0472-4b76-96f4-8cadf24bb592",
   "metadata": {},
   "source": [
    "### mask to polygon"
   ]
  },
  {
   "cell_type": "markdown",
   "id": "4c52a02e-4839-476f-97f6-361c03be4bea",
   "metadata": {},
   "source": [
    "其实思路是一样的，都是直接从mask找轮廓\n",
    "+ 要么就是调用，skimage.measure.find_contours\n",
    "    + <https://scikit-image.org/docs/stable/auto_examples/edges/plot_contours.html>\n",
    "    + [convert mask binary image to polygon format #131](https://github.com/cocodataset/cocoapi/issues/131)\n",
    "+ 要么就是调用, cv2.findContours\n",
    "    + <https://www.geeksforgeeks.org/find-and-draw-contours-using-opencv-python/>\n",
    "    + <https://docs.opencv.org/3.4/d4/d73/tutorial_py_contours_begin.html>\n",
    "    + <https://docs.opencv.org/3.2.0/dc/da5/tutorial_py_drawing_functions.html>\n",
    "    \n",
    "    + [Image segmentation mask to polygon for coco json](https://stackoverflow.com/questions/68663512/image-segmentation-mask-to-polygon-for-coco-json) \n",
    "    + <https://stackoverflow.com/questions/58884265/python-convert-binary-mask-to-polygon>"
   ]
  },
  {
   "cell_type": "markdown",
   "id": "050edaf0-b811-4cd7-aa14-48086906393b",
   "metadata": {},
   "source": [
    "## 整体测试"
   ]
  },
  {
   "cell_type": "markdown",
   "id": "bf66a5e1-b7f4-42b1-830a-484d540d4fb5",
   "metadata": {},
   "source": [
    "由于这个MMengine的注册机制，没法reload，所以直接在本地重新copy一遍那个类，简单写一下就行"
   ]
  },
  {
   "cell_type": "code",
   "execution_count": 3,
   "id": "ddd09505-99a8-491b-babd-09f15c0d0108",
   "metadata": {},
   "outputs": [
    {
     "name": "stderr",
     "output_type": "stream",
     "text": [
      "/Users/huangshan/Documents/software/miniconda3/miniconda3/envs/py37/lib/python3.7/site-packages/mmengine/structures/pixel_data.py:83: UserWarning: The shape of value will convert from (720, 1280) to (1, 720, 1280)\n",
      "  warnings.warn('The shape of value will convert from '\n"
     ]
    }
   ],
   "source": [
    "import numpy as np\n",
    "import torch\n",
    "from mmengine.structures import PixelData\n",
    "import mmcv\n",
    "\n",
    "from importlib import reload\n",
    "from mmseg.structures import SegDataSample\n",
    "from local_visualizer import SegLocalVisualizer\n",
    "%matplotlib osx\n",
    "# from mmseg.utils.class_names import bdd100k_classes,bdd100k_palette\n",
    "\n",
    "\n",
    "save_dir = './work_dirs'\n",
    "\n",
    "seg_local_visualizer = SegLocalVisualizer(vis_backends=[dict(type='LocalVisBackend')],\n",
    "                                          save_dir=save_dir,\n",
    "                                          dataset_name = \"cityscapes\")\n",
    "image = mmcv.imread(image_path,channel_order='rgb')\n",
    "# SegLocalVisualizer中要求图像是RGB的\n",
    "\n",
    "sem_seg = mmcv.imread(mask_path,'unchanged')\n",
    "gt_sem_seg_data = dict(data=sem_seg)\n",
    "gt_sem_seg = PixelData(**gt_sem_seg_data)\n",
    "\n",
    "gt_seg_data_sample = SegDataSample()\n",
    "gt_seg_data_sample.gt_sem_seg = gt_sem_seg\n",
    "\n",
    "\n",
    "# seg_local_visualizer.dataset_meta = dict(classes=bdd100k_classes(),palette=bdd100k_palette())\n",
    "# seg_local_visualizer.dataset_meta = dict(classes=cityscapes_classes(),palette=cityscapes_palette())\n",
    "# seg_local_visualizer.add_datasample('visualizer_example',image, gt_seg_data_sample)\n",
    "\n",
    "seg_local_visualizer.add_datasample('visualizer_example', image,gt_seg_data_sample, show=True)"
   ]
  },
  {
   "cell_type": "markdown",
   "id": "5af24408-44aa-4893-9367-5c63ef3b8925",
   "metadata": {},
   "source": [
    "## 主要函数修改"
   ]
  },
  {
   "cell_type": "markdown",
   "id": "dff35963-2078-41af-b583-dc6fc3e75e8b",
   "metadata": {},
   "source": [
    "+ <https://docs.opencv.org/3.4/d3/dc0/group__imgproc__shape.html#ga819779b9857cc2f8601e6526a3a5bc71>\n",
    "    ```bash\n",
    "    cv2.findContours(mask, cv2.RETR_EXTERNAL, cv2.CHAIN_APPROX_SIMPLE)\n",
    "     # 使用 RETR_EXTERNAL 模式，不使用RETR_TREE模式，后者会返回多个contours\n",
    "    ```\n",
    "+ 不管用哪个模式，似乎都会返回多个。。。"
   ]
  },
  {
   "cell_type": "code",
   "execution_count": 10,
   "id": "bbe735e8-3dae-4126-96ca-acdb3554afbf",
   "metadata": {},
   "outputs": [],
   "source": [
    "import matplotlib.pyplot as plt\n",
    "from matplotlib.patches import Polygon, Patch\n",
    "from matplotlib.collections import PatchCollection\n",
    "import cv2\n",
    "from mmseg.utils.class_names import cityscapes_classes,cityscapes_palette\n",
    "\n",
    "def get_coutours(mask):\n",
    "    contours, hierarchy = cv2.findContours(mask, cv2.RETR_EXTERNAL, cv2.CHAIN_APPROX_SIMPLE)\n",
    "    contours_num = len(contours)\n",
    "    # print(f\"type contours:{type(contours)}, contours: {len(contours)}\")\n",
    "    if contours_num==1:\n",
    "        contours_np = np.squeeze(contours)\n",
    "        # print(f\"contours: {contours[0][:6]}, \\n contours_np: {contours_py.shape}, {type(contours_py)}\\n {contours_py[:6]}\")\n",
    "    else:\n",
    "        contours_list = []\n",
    "        for num in range(1,contours_num):\n",
    "            contour = np.squeeze(contours[num],axis=1)\n",
    "            # 会出现 contour.shape: (1, 2), [[208  12]] 只有1个点的contour，所以不能所有轴都squeeze\n",
    "            # print(f\"contour.shape: {contour.shape}, {contour[:3]}\")\n",
    "            one_contour_list = contour.tolist()\n",
    "            contours_list.extend(one_contour_list)\n",
    "            # print(f\"contour type: {type(contour)}\")\n",
    "            # contours.extend(contour)\n",
    "        # print(f\"contours_list: {contours_list[:6]}\")\n",
    "        contours_np = np.array(contours_list,dtype=np.uint8)\n",
    "        # print(f\"contours_np: {contours_np[:4]}\")\n",
    "    return contours_np\n",
    "            \n",
    "    \n",
    "\n",
    "def _draw_sem_seg(image, sem_seg,classes,palette,withLabels = False):\n",
    "    alpha=0.8\n",
    "    num_classes = len(classes)\n",
    "\n",
    "    sem_seg = sem_seg.cpu().data\n",
    "    ids = np.unique(sem_seg)[::-1]\n",
    "    # print(f\"ids:{ids}\")\n",
    "    legal_indices = ids < num_classes\n",
    "    # print(f\"legal_indices:{legal_indices}\")\n",
    "    ids = ids[legal_indices]\n",
    "    labels = np.array(ids, dtype=np.int64)\n",
    "    print(f\"labels:{labels}\")\n",
    "\n",
    "    colors = [palette[label] for label in labels]\n",
    "   \n",
    "    if withLabels:\n",
    "        fig, ax = plt.subplots()\n",
    "        mask = np.zeros(image.shape[:2],dtype=np.uint8)\n",
    "        masks = sem_seg[0] == labels[:, None, None]\n",
    "        # opencv需要接受uint8的数据类型\n",
    "        masks = masks.astype(np.uint8)\n",
    "        # print(f\"masks.shape: {masks.shape}\") # (10, 720, 1280)\n",
    "        # plt.imshow(masks[0])\n",
    "        # print(masks[0].shape)\n",
    "        color_seg = masks\n",
    "        polygons = []\n",
    "        for mask_num in range(len(labels)):\n",
    "            classes_id = labels[mask_num]\n",
    "            # print(f\"mask.shape: {mask.shape}, mask.dtype:{mask.dtype}\")\n",
    "            contours = get_coutours(masks[mask_num])\n",
    "            # print(f\"num: {mask_num}, contours:{contours[:4]}\")\n",
    "            face_color = np.array(palette[classes_id])/255.0\n",
    "            polygon = Polygon(contours,color=face_color)\n",
    "            polygons.append(polygon)\n",
    "            text = classes[classes_id]\n",
    "            print(f\"face_color = {face_color}, text = {text}, contours[-1] = {contours[-1]}\")\n",
    "            ax.text(contours[1][0],contours[1][1], text, horizontalalignment='center', verticalalignment='center')\n",
    "        collection = PatchCollection(polygons, linewidths=2)\n",
    "        ax.add_collection(collection)\n",
    "        plt.imshow(image) \n",
    "    else:\n",
    "        mask = np.zeros_like(image, dtype=np.uint8)\n",
    "        for label, color in zip(labels, colors):\n",
    "            mask[sem_seg[0] == label, :] = color\n",
    "        color_seg = (image * (1 - alpha) + mask * alpha).astype(np.uint8)\n",
    "    return color_seg"
   ]
  },
  {
   "cell_type": "code",
   "execution_count": 11,
   "id": "c0db1cba-2425-4169-9b04-2f80bbea46a9",
   "metadata": {
    "tags": []
   },
   "outputs": [
    {
     "name": "stdout",
     "output_type": "stream",
     "text": [
      "labels:[13 11 10  8  7  6  5  4  2  0]\n",
      "face_color = [0.         0.         0.55686275], text = car, contours[-1] = [990 115]\n",
      "face_color = [0.8627451  0.07843137 0.23529412], text = person, contours[-1] = [734 188]\n",
      "face_color = [0.2745098  0.50980392 0.70588235], text = sky, contours[-1] = [208   0]\n",
      "face_color = [0.41960784 0.55686275 0.1372549 ], text = vegetation, contours[-1] = [19  0]\n",
      "face_color = [0.8627451 0.8627451 0.       ], text = traffic sign, contours[-1] = [211  42]\n",
      "face_color = [0.98039216 0.66666667 0.11764706], text = traffic light, contours[-1] = [98 38]\n",
      "face_color = [0.6 0.6 0.6], text = pole, contours[-1] = [218   0]\n",
      "face_color = [0.74509804 0.6        0.6       ], text = fence, contours[-1] = [ 54 175]\n",
      "face_color = [0.2745098 0.2745098 0.2745098], text = building, contours[-1] = [2 0]\n",
      "face_color = [0.50196078 0.25098039 0.50196078], text = road, contours[-1] = [115   0]\n"
     ]
    },
    {
     "data": {
      "text/plain": [
       "(10, 720, 1280)"
      ]
     },
     "execution_count": 11,
     "metadata": {},
     "output_type": "execute_result"
    }
   ],
   "source": [
    "color_seg = _draw_sem_seg(image, gt_sem_seg,classes=cityscapes_classes(),palette=cityscapes_palette(),withLabels=True)\n",
    "color_seg.shape"
   ]
  },
  {
   "cell_type": "markdown",
   "id": "d235176d-67f7-477a-8834-ada36a8f8c8d",
   "metadata": {},
   "source": [
    "### 全用opencv画"
   ]
  },
  {
   "cell_type": "markdown",
   "id": "f92fc262-579b-4a48-94e7-f407d0f69ff0",
   "metadata": {},
   "source": [
    "参考：<https://stackoverflow.com/questions/16615662/how-to-write-text-on-a-image-in-windows-using-python-opencv2>"
   ]
  },
  {
   "cell_type": "code",
   "execution_count": 6,
   "id": "505450d2-6628-4ed0-8e78-b8710d0fcb03",
   "metadata": {},
   "outputs": [
    {
     "name": "stdout",
     "output_type": "stream",
     "text": [
      "labels:[13 11 10  8  7  6  5  4  2  0]\n",
      "loc = [956 115], text = car\n",
      "loc = [726 188], text = person\n",
      "loc = [540  95], text = sky\n",
      "loc = [206 140], text = vegetation\n",
      "loc = [998 152], text = traffic sign\n",
      "loc = [1006  192], text = traffic light\n",
      "loc = [999 161], text = pole\n",
      "loc = [265 254], text = fence\n",
      "loc = [621 255], text = building\n",
      "loc = [1252  406], text = road\n"
     ]
    }
   ],
   "source": [
    "import matplotlib.pyplot as plt\n",
    "from matplotlib.patches import Polygon, Patch\n",
    "from matplotlib.collections import PatchCollection\n",
    "import cv2\n",
    "from mmseg.utils.class_names import cityscapes_classes,cityscapes_palette\n",
    "\n",
    "def get_loc(mask):\n",
    "    contours, hierarchy = cv2.findContours(mask, cv2.RETR_EXTERNAL, cv2.CHAIN_APPROX_SIMPLE)\n",
    "    loc = np.squeeze(contours[0],axis=1)[0]\n",
    "    return loc\n",
    "            \n",
    "    \n",
    "def _draw_sem_seg(image, sem_seg,classes,palette,withLabels = False):\n",
    "    alpha=0.8\n",
    "    num_classes = len(classes)\n",
    "\n",
    "    sem_seg = sem_seg.cpu().data\n",
    "    ids = np.unique(sem_seg)[::-1]\n",
    "    # print(f\"ids:{ids}\")\n",
    "    legal_indices = ids < num_classes\n",
    "    # print(f\"legal_indices:{legal_indices}\")\n",
    "    ids = ids[legal_indices]\n",
    "    labels = np.array(ids, dtype=np.int64)\n",
    "    print(f\"labels:{labels}\")\n",
    "\n",
    "    colors = [palette[label] for label in labels]\n",
    "   \n",
    "    if withLabels:\n",
    "        font                   = cv2.FONT_HERSHEY_SIMPLEX\n",
    "        fontScale              = 1\n",
    "        fontColor              = (255,255,255)\n",
    "        thickness              = 3\n",
    "        lineType               = 2\n",
    "        \n",
    "        mask = np.zeros(image.shape[:2],dtype=np.uint8)\n",
    "        masks = sem_seg[0] == labels[:, None, None]\n",
    "        masks = masks.astype(np.uint8)\n",
    "\n",
    "        for mask_num in range(len(labels)):\n",
    "            classes_id = labels[mask_num]\n",
    "            loc = get_loc(masks[mask_num])\n",
    "            text = classes[classes_id]\n",
    "            print(f\"loc = {loc}, text = {text}\")\n",
    "            image = cv2.putText(image,text, loc, font, fontScale,fontColor,thickness,lineType)\n",
    "            \n",
    "        mask = np.zeros_like(image, dtype=np.uint8)\n",
    "        for label, color in zip(labels, colors):\n",
    "            mask[sem_seg[0] == label, :] = color\n",
    "        color_seg = (image * (1 - alpha) + mask * alpha).astype(np.uint8)\n",
    "        plt.imshow(color_seg) \n",
    "    return color_seg\n",
    "\n",
    "masks = _draw_sem_seg(image, gt_sem_seg,classes=cityscapes_classes(),palette=cityscapes_palette(),withLabels=True)"
   ]
  },
  {
   "cell_type": "markdown",
   "id": "12fe58ff-c6f8-4b59-9fb6-482f9fd40b1b",
   "metadata": {},
   "source": [
    "### 用matplotlib画"
   ]
  },
  {
   "cell_type": "markdown",
   "id": "6ab6a9dd-e607-43be-a16d-006f9b4c0111",
   "metadata": {},
   "source": [
    "+ <https://medium.com/analytics-vidhya/how-to-plot-image-and-text-on-matplotlib-91d7f23a3043>"
   ]
  },
  {
   "cell_type": "markdown",
   "id": "ccdc7741-fee2-4ca7-b47f-b92082fd917a",
   "metadata": {},
   "source": [
    "### 用PIL画"
   ]
  },
  {
   "cell_type": "markdown",
   "id": "8a214216-982f-48be-9216-6c4563dc687f",
   "metadata": {},
   "source": [
    "+ <https://holypython.com/python-pil-tutorial/how-to-add-text-to-images-in-python-via-pil-library/>"
   ]
  },
  {
   "cell_type": "code",
   "execution_count": null,
   "id": "a6bfdeee-4195-4d1b-a4b3-c076bbfe7497",
   "metadata": {},
   "outputs": [],
   "source": []
  }
 ],
 "metadata": {
  "kernelspec": {
   "display_name": "Python 3 (ipykernel)",
   "language": "python",
   "name": "python3"
  },
  "language_info": {
   "codemirror_mode": {
    "name": "ipython",
    "version": 3
   },
   "file_extension": ".py",
   "mimetype": "text/x-python",
   "name": "python",
   "nbconvert_exporter": "python",
   "pygments_lexer": "ipython3",
   "version": "3.7.11"
  }
 },
 "nbformat": 4,
 "nbformat_minor": 5
}
