{
 "cells": [
  {
   "cell_type": "code",
   "execution_count": null,
   "id": "970dd4bf-a123-4666-8ff5-b107e94874ab",
   "metadata": {},
   "outputs": [],
   "source": []
  },
  {
   "cell_type": "markdown",
   "id": "4c2ea125-a4da-495d-a04e-3d56bdb2a82d",
   "metadata": {},
   "source": [
    "参考：\n",
    "+ [Do You Visualize DataLoaders for Deep Neural Networks?](https://www.raravind.com/blog/data-science/do-you-visualize-dataloaders-for-deep-neural-networks)\n",
    "+ [DATASETS & DATALOADERS](https://pytorch.org/tutorials/beginner/basics/data_tutorial.html?highlight=dataloader)\n",
    "+ [GPU AND BATCHED DATA AUGMENTATION WITH KORNIA AND PYTORCH-LIGHTNING\n",
    "](https://lightning.ai/docs/pytorch/stable/notebooks/lightning_examples/augmentation_kornia.html)\n",
    "+ [Custom dataset in Pytorch —Part 1. Images](https://towardsdatascience.com/custom-dataset-in-pytorch-part-1-images-2df3152895)\n",
    "+ <https://stackoverflow.com/questions/74344045/pytorch-visualize-image-batch-from-dataloader>"
   ]
  },
  {
   "cell_type": "code",
   "execution_count": null,
   "id": "975e8272-f023-40d7-8db2-d49d5f943ec6",
   "metadata": {},
   "outputs": [],
   "source": []
  }
 ],
 "metadata": {
  "kernelspec": {
   "display_name": "Python 3 (ipykernel)",
   "language": "python",
   "name": "python3"
  },
  "language_info": {
   "codemirror_mode": {
    "name": "ipython",
    "version": 3
   },
   "file_extension": ".py",
   "mimetype": "text/x-python",
   "name": "python",
   "nbconvert_exporter": "python",
   "pygments_lexer": "ipython3",
   "version": "3.7.11"
  }
 },
 "nbformat": 4,
 "nbformat_minor": 5
}
