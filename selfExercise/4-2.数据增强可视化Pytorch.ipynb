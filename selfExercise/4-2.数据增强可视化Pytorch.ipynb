{
 "cells": [
  {
   "cell_type": "markdown",
   "id": "84c9bd3f-1b7c-409b-8f2f-5724fa8f3bd8",
   "metadata": {},
   "source": [
    "参考：\n",
    "+ [Do You Visualize DataLoaders for Deep Neural Networks?](https://www.raravind.com/blog/data-science/do-you-visualize-dataloaders-for-deep-neural-networks)\n",
    "+ [DATASETS & DATALOADERS](https://pytorch.org/tutorials/beginner/basics/data_tutorial.html?highlight=dataloader)\n",
    "+ [GPU AND BATCHED DATA AUGMENTATION WITH KORNIA AND PYTORCH-LIGHTNING\n",
    "](https://lightning.ai/docs/pytorch/stable/notebooks/lightning_examples/augmentation_kornia.html)\n",
    "+ [Custom dataset in Pytorch —Part 1. Images](https://towardsdatascience.com/custom-dataset-in-pytorch-part-1-images-2df3152895)\n",
    "+ <https://stackoverflow.com/questions/74344045/pytorch-visualize-image-batch-from-dataloader>"
   ]
  },
  {
   "cell_type": "markdown",
   "id": "acb138b0-2d89-4c22-a1f1-424796b82092",
   "metadata": {},
   "source": [
    "使用的示例数据集：\n",
    "+ 目标检测和polygon形式的语义分割，都是用的气球数据集\n",
    "+ mask形式的语义分割，\n",
    "    + 用这个受损花朵分割（280MB）：[Accurate damaged flower shapes/segmentation](https://www.kaggle.com/datasets/metavision/accurate-damaged-flower-shapessegmentation)\n",
    "    + 一开始想用的kaggle上一个花的语义分割数据集：[Flower Segmentation](https://www.kaggle.com/competitions/test-segm-comp/data)，但是限制下载。。"
   ]
  },
  {
   "cell_type": "markdown",
   "id": "0c9bf0be-e3a2-4601-8b86-fdc36180225e",
   "metadata": {},
   "source": [
    "# 2. 使用pytorch和Imgaug等库"
   ]
  },
  {
   "cell_type": "markdown",
   "id": "5a77fa78-a6bd-425b-a829-6b078e64b589",
   "metadata": {},
   "source": [
    "参考：[数据增强可视化 transfrom Python中三个图像增强库](https://blog.csdn.net/weixin_41803874/article/details/126414234)"
   ]
  },
  {
   "cell_type": "markdown",
   "id": "cae1892c-6e95-4e17-ac3d-32a42310bd14",
   "metadata": {},
   "source": [
    "## 2.1 目标检测"
   ]
  },
  {
   "cell_type": "code",
   "execution_count": null,
   "id": "ced334cd-12d1-44c4-a4f2-b9c67e3a6b35",
   "metadata": {},
   "outputs": [],
   "source": []
  },
  {
   "cell_type": "markdown",
   "id": "17197642-40a9-4912-98a7-3fee46975ff4",
   "metadata": {},
   "source": [
    "## 2.2 语义分割（polygon形式的）"
   ]
  },
  {
   "cell_type": "code",
   "execution_count": null,
   "id": "366ec8fa-8c5b-49b7-b200-a5af22492855",
   "metadata": {},
   "outputs": [],
   "source": []
  },
  {
   "cell_type": "code",
   "execution_count": null,
   "id": "09fa0daa-2faf-4e30-bb7a-c88a31f02566",
   "metadata": {},
   "outputs": [],
   "source": []
  },
  {
   "cell_type": "markdown",
   "id": "c8007f99-31a9-4033-ae61-bc987829caa2",
   "metadata": {},
   "source": [
    "## 2.3 语义分割（mask形式的segmentation标记）"
   ]
  },
  {
   "cell_type": "markdown",
   "id": "7a27ee51-4128-4ede-93c5-78f0ff3855f9",
   "metadata": {},
   "source": [
    "参考：[语义分割中数据增强可视化](https://blog.csdn.net/weixin_43086747/article/details/129758159)"
   ]
  }
 ],
 "metadata": {
  "kernelspec": {
   "display_name": "Python 3 (ipykernel)",
   "language": "python",
   "name": "python3"
  },
  "language_info": {
   "codemirror_mode": {
    "name": "ipython",
    "version": 3
   },
   "file_extension": ".py",
   "mimetype": "text/x-python",
   "name": "python",
   "nbconvert_exporter": "python",
   "pygments_lexer": "ipython3",
   "version": "3.7.11"
  }
 },
 "nbformat": 4,
 "nbformat_minor": 5
}
