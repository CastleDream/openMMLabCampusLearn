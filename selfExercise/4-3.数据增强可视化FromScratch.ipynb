{
 "cells": [
  {
   "cell_type": "markdown",
   "id": "acb138b0-2d89-4c22-a1f1-424796b82092",
   "metadata": {},
   "source": [
    "使用的示例数据集：\n",
    "+ 目标检测和polygon形式的语义分割，都是用的气球数据集\n",
    "+ mask形式的语义分割，\n",
    "    + 用这个受损花朵分割（280MB）：[Accurate damaged flower shapes/segmentation](https://www.kaggle.com/datasets/metavision/accurate-damaged-flower-shapessegmentation)\n",
    "    + 一开始想用的kaggle上一个花的语义分割数据集：[Flower Segmentation](https://www.kaggle.com/competitions/test-segm-comp/data)，但是限制下载。。"
   ]
  },
  {
   "cell_type": "markdown",
   "id": "dc4445e4-21d0-4948-b082-a0a9336c46f0",
   "metadata": {},
   "source": [
    "# 3. from scratch（从零开始）"
   ]
  },
  {
   "cell_type": "markdown",
   "id": "3899d4d6-f2cc-4cd5-90fc-2c8d6a5155bd",
   "metadata": {},
   "source": [
    "参考：[opencv实现数据增强（图片+标签）平移，翻转，缩放，旋转](https://blog.csdn.net/qq_39435411/article/details/126265987)"
   ]
  },
  {
   "cell_type": "markdown",
   "id": "1469e07c-c784-41ed-976a-1a4bdf620d10",
   "metadata": {},
   "source": [
    "## 3.1 目标检测"
   ]
  },
  {
   "cell_type": "code",
   "execution_count": null,
   "id": "a94aed21-92ea-45ec-8fc2-444f93163dc4",
   "metadata": {},
   "outputs": [],
   "source": []
  },
  {
   "cell_type": "code",
   "execution_count": null,
   "id": "c3592c6f-20dd-4d8a-af5f-90f2e3c277db",
   "metadata": {},
   "outputs": [],
   "source": []
  },
  {
   "cell_type": "markdown",
   "id": "e5be115d-62ed-4bcd-b717-25fa49f9d21c",
   "metadata": {},
   "source": [
    "## 3.2 语义分割（polygon形式的）"
   ]
  },
  {
   "cell_type": "code",
   "execution_count": null,
   "id": "cd257767-8d69-481e-ba2b-e3d8e302f20e",
   "metadata": {},
   "outputs": [],
   "source": []
  },
  {
   "cell_type": "code",
   "execution_count": null,
   "id": "b079683e-2913-44b7-9480-be65c261e21c",
   "metadata": {},
   "outputs": [],
   "source": []
  },
  {
   "cell_type": "markdown",
   "id": "29c6de5a-441e-45a1-a630-5abbf69fb4b1",
   "metadata": {},
   "source": [
    "## 3.3 语义分割（mask形式的segmentation标记）"
   ]
  },
  {
   "cell_type": "code",
   "execution_count": null,
   "id": "e2b3ebc1-bd9f-4d0b-bab3-8f4e06d7918d",
   "metadata": {},
   "outputs": [],
   "source": []
  }
 ],
 "metadata": {
  "kernelspec": {
   "display_name": "Python 3 (ipykernel)",
   "language": "python",
   "name": "python3"
  },
  "language_info": {
   "codemirror_mode": {
    "name": "ipython",
    "version": 3
   },
   "file_extension": ".py",
   "mimetype": "text/x-python",
   "name": "python",
   "nbconvert_exporter": "python",
   "pygments_lexer": "ipython3",
   "version": "3.7.11"
  }
 },
 "nbformat": 4,
 "nbformat_minor": 5
}
