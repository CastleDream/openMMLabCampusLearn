{
 "cells": [
  {
   "cell_type": "code",
   "execution_count": 1,
   "id": "37111ea0-12b4-4f12-a505-80805dcb0d1e",
   "metadata": {},
   "outputs": [],
   "source": [
    "import os\n",
    "import numpy as np"
   ]
  },
  {
   "cell_type": "code",
   "execution_count": 3,
   "id": "01039c27-ac34-4a23-93d0-3f208315c18c",
   "metadata": {},
   "outputs": [
    {
     "data": {
      "text/plain": [
       "(31, ['苦瓜', '圣女果'])"
      ]
     },
     "execution_count": 3,
     "metadata": {},
     "output_type": "execute_result"
    }
   ],
   "source": [
    "base_dir = \"./fruit30_train\"\n",
    "fruit_list = os.listdir(base_dir)\n",
    "len(fruit_list),fruit_list[:2]"
   ]
  },
  {
   "cell_type": "markdown",
   "id": "c50632d8-432e-405d-88b8-1a69d0e7f4bd",
   "metadata": {},
   "source": [
    "注意：\n",
    "+ 苦瓜文件夹这一级有`.DS_store`文件\n",
    "+ 苦瓜里面图像那一级文件就没有`.DS_store`文件了"
   ]
  },
  {
   "cell_type": "code",
   "execution_count": 5,
   "id": "8435fd32-d806-478c-8c4f-05e7d386c908",
   "metadata": {},
   "outputs": [],
   "source": [
    "fruit_list = [i for i in fruit_list if \".\" not in i]"
   ]
  },
  {
   "cell_type": "code",
   "execution_count": 44,
   "id": "6b575c56-9ff8-46e3-9fa5-03037498428e",
   "metadata": {
    "tags": []
   },
   "outputs": [
    {
     "name": "stdout",
     "output_type": "stream",
     "text": [
      "['苦瓜', '圣女果', '芒果', '菠萝', '石榴', '山竹', '苹果-红', '猕猴桃', '哈密瓜', '柚子', '脐橙', '车厘子', '杨梅', '草莓', '椰子', '西瓜', '桂圆', '葡萄-红', '苹果-青', '荔枝', '香蕉', '柠檬', '胡萝卜', '梨', '葡萄-白', '砂糖橘', '黄瓜', '榴莲', '西红柿', '火龙果'] 30\n"
     ]
    }
   ],
   "source": [
    "print(fruit_list,len(fruit_list))"
   ]
  },
  {
   "cell_type": "code",
   "execution_count": 38,
   "id": "d799f3a4-85ef-4e1c-88fe-d8f2651b6b30",
   "metadata": {},
   "outputs": [],
   "source": [
    "train=[]\n",
    "val =[]\n",
    "test =[]\n",
    "# 按照7:1:2去划分，优先保证7和1，2不够就不够吧\n",
    "for i,fruit in enumerate(fruit_list):\n",
    "    # print(f\"class num is {i}, class name is {fruit}\")\n",
    "    train_num =0\n",
    "    val_num=0\n",
    "    test_num=0\n",
    "    fruit_base_dir = os.path.join(base_dir,fruit)\n",
    "    fruit_type_list = os.listdir(fruit_base_dir)\n",
    "    fruit_type_num = len(fruit_type_list)\n",
    "    split70 = int(fruit_type_num*0.7)\n",
    "    split80 = int(fruit_type_num*0.8)\n",
    "    for file_num in range(split70):\n",
    "        fruit_file_path = os.path.join(fruit,fruit_type_list[file_num])\n",
    "        oneline = fruit_file_path+\" \"+str(i)+'\\n'\n",
    "        train.append(oneline)\n",
    "        train_num+=1\n",
    "    for file_num in range(split70,split80):\n",
    "        fruit_file_path = os.path.join(fruit,fruit_type_list[file_num])\n",
    "        oneline = fruit_file_path+\" \"+str(i)+'\\n'\n",
    "        val.append(oneline)\n",
    "        val_num+=1\n",
    "    for file_num in range(split80,fruit_type_num):\n",
    "        fruit_file_path = os.path.join(fruit,fruit_type_list[file_num])\n",
    "        oneline = fruit_file_path+\" \"+str(i)+'\\n'\n",
    "        test.append(oneline)\n",
    "        test_num+=1\n",
    "    # print(f\"fruit {fruit} train num is {train_num}, val num is {val_num}, test num is {test_num}\")"
   ]
  },
  {
   "cell_type": "code",
   "execution_count": 39,
   "id": "0596181c-00bb-49a4-8761-20ba7dec2c1b",
   "metadata": {},
   "outputs": [
    {
     "data": {
      "text/plain": [
       "(3051, 436, 888)"
      ]
     },
     "execution_count": 39,
     "metadata": {},
     "output_type": "execute_result"
    }
   ],
   "source": [
    "len(train),len(val),len(test)"
   ]
  },
  {
   "cell_type": "code",
   "execution_count": 40,
   "id": "885e4e8c-3591-4cb8-85b9-b8a676ebad12",
   "metadata": {},
   "outputs": [
    {
     "data": {
      "text/plain": [
       "['苦瓜/63.jpg 0\\n', '苦瓜/189.jpg 0\\n']"
      ]
     },
     "execution_count": 40,
     "metadata": {},
     "output_type": "execute_result"
    }
   ],
   "source": [
    "train[:2]"
   ]
  },
  {
   "cell_type": "code",
   "execution_count": 41,
   "id": "325082f9-13c7-4f65-9c9a-6187ab8aee6b",
   "metadata": {},
   "outputs": [],
   "source": [
    "with open(\"./fruit30_meta/train.txt\", \"w\") as f:\n",
    "    f.writelines(train)"
   ]
  },
  {
   "cell_type": "code",
   "execution_count": 42,
   "id": "abd17e3b-d46c-4195-8598-a1afd34f1040",
   "metadata": {},
   "outputs": [],
   "source": [
    "with open(\"./fruit30_meta/val.txt\", \"w\") as f:\n",
    "    f.writelines(val)"
   ]
  },
  {
   "cell_type": "code",
   "execution_count": 43,
   "id": "2512eac4-040b-4381-9e43-9e7920d78be4",
   "metadata": {},
   "outputs": [],
   "source": [
    "with open(\"./fruit30_meta/test.txt\", \"w\") as f:\n",
    "    f.writelines(test)"
   ]
  },
  {
   "cell_type": "code",
   "execution_count": null,
   "id": "a8bae228-0707-4f4a-afd0-0d0b279e9b0e",
   "metadata": {},
   "outputs": [],
   "source": []
  }
 ],
 "metadata": {
  "kernelspec": {
   "display_name": "Python 3 (ipykernel)",
   "language": "python",
   "name": "python3"
  },
  "language_info": {
   "codemirror_mode": {
    "name": "ipython",
    "version": 3
   },
   "file_extension": ".py",
   "mimetype": "text/x-python",
   "name": "python",
   "nbconvert_exporter": "python",
   "pygments_lexer": "ipython3",
   "version": "3.7.11"
  }
 },
 "nbformat": 4,
 "nbformat_minor": 5
}
